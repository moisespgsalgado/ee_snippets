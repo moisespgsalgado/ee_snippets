{
 "cells": [
  {
   "cell_type": "code",
   "execution_count": 7,
   "id": "1912f3e1-81fd-4ec9-9d58-2448b6e46bea",
   "metadata": {},
   "outputs": [],
   "source": [
    "import ee\n",
    "import geemap"
   ]
  },
  {
   "cell_type": "code",
   "execution_count": 6,
   "id": "c8c73097-44d1-42e1-a8cb-d10ba8deaacc",
   "metadata": {},
   "outputs": [],
   "source": [
    "''' \n",
    "The credentials obtained by ee.Authenticate() will be written to a persistent token stored on the local machine. \n",
    "ee.Initialize() will automatically use the persistent credentials, if they exist.\n",
    "'''\n",
    "#ee.Authenticate()\n",
    "ee.Initialize()"
   ]
  },
  {
   "cell_type": "code",
   "execution_count": 9,
   "id": "698e06be-e858-4251-8da2-87e03b34b7c6",
   "metadata": {},
   "outputs": [],
   "source": [
    "Map = geemap.Map()\n",
    "Map"
   ]
  },
  {
   "cell_type": "code",
   "execution_count": null,
   "id": "757c9ada-4295-4fe7-8576-c294cbfd4cde",
   "metadata": {},
   "outputs": [],
   "source": []
  }
 ],
 "metadata": {
  "kernelspec": {
   "display_name": "Python 3 (ipykernel)",
   "language": "python",
   "name": "python3"
  },
  "language_info": {
   "codemirror_mode": {
    "name": "ipython",
    "version": 3
   },
   "file_extension": ".py",
   "mimetype": "text/x-python",
   "name": "python",
   "nbconvert_exporter": "python",
   "pygments_lexer": "ipython3",
   "version": "3.10.4"
  }
 },
 "nbformat": 4,
 "nbformat_minor": 5
}
